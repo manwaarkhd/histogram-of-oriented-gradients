{
 "cells": [
  {
   "cell_type": "code",
   "execution_count": 1,
   "metadata": {},
   "outputs": [],
   "source": [
    "from dataset import PersonDataset, load_dataset\n",
    "from metrics import display_classification_report, plot_confusion_matrix\n",
    "from histogram_of_oriented_gradients import HistogramOfOrientedGradients\n",
    "\n",
    "from sklearn.ensemble import RandomForestClassifier\n",
    "from sklearn.svm import LinearSVC\n",
    "\n",
    "import matplotlib.pyplot as plt\n",
    "import numpy as np\n",
    "import cv2"
   ]
  },
  {
   "cell_type": "code",
   "execution_count": 2,
   "metadata": {},
   "outputs": [],
   "source": [
    "root_path = \"Dataset\"\n",
    "\n",
    "train_images, train_labels = load_dataset(\n",
    "    root_path, \n",
    "    mode=\"Train\"\n",
    ")\n",
    "\n",
    "test_images, test_labels = load_dataset(\n",
    "    root_path, \n",
    "    mode=\"Test\"\n",
    ")"
   ]
  },
  {
   "cell_type": "markdown",
   "metadata": {},
   "source": [
    "### Linear SVM:"
   ]
  },
  {
   "cell_type": "code",
   "execution_count": 3,
   "metadata": {},
   "outputs": [
    {
     "name": "stdout",
     "output_type": "stream",
     "text": [
      "        Total instances: 1585\n",
      "Correct classifications: 1467\n",
      "         Accuracy score: 92.555\n",
      "\n",
      "\n",
      "              precision    recall  f1-score   support\n",
      "\n",
      "    Negative       0.81      0.97      0.88       453\n",
      "    Positive       0.99      0.91      0.95      1132\n",
      "\n",
      "    accuracy                           0.93      1585\n",
      "   macro avg       0.90      0.94      0.91      1585\n",
      "weighted avg       0.94      0.93      0.93      1585\n",
      "\n"
     ]
    }
   ],
   "source": [
    "HOG = HistogramOfOrientedGradients(\n",
    "    classifier=LinearSVC\n",
    ")\n",
    "\n",
    "HOG.train(\n",
    "    train_images,\n",
    "    train_labels\n",
    ")\n",
    "\n",
    "predictions = HOG.test(\n",
    "    test_images,\n",
    "    test_labels\n",
    ")\n",
    "\n",
    "classes = list(PersonDataset.classes.values())\n",
    "display_classification_report(test_labels, predictions, classes)"
   ]
  },
  {
   "cell_type": "code",
   "execution_count": 4,
   "metadata": {},
   "outputs": [
    {
     "data": {
      "image/png": "[encoded data removed]",
      "text/plain": [
       "<Figure size 432x288 with 2 Axes>"
      ]
     },
     "metadata": {
      "needs_background": "light"
     },
     "output_type": "display_data"
    }
   ],
   "source": [
    "plot_confusion_matrix(test_labels, predictions, classes)"
   ]
  },
  {
   "cell_type": "markdown",
   "metadata": {},
   "source": [
    "### Random Forest:"
   ]
  },
  {
   "cell_type": "code",
   "execution_count": 5,
   "metadata": {},
   "outputs": [
    {
     "name": "stdout",
     "output_type": "stream",
     "text": [
      "        Total instances: 1585\n",
      "Correct classifications: 1494\n",
      "         Accuracy score: 94.259\n",
      "\n",
      "\n",
      "              precision    recall  f1-score   support\n",
      "\n",
      "    Negative       0.90      0.90      0.90       453\n",
      "    Positive       0.96      0.96      0.96      1132\n",
      "\n",
      "    accuracy                           0.94      1585\n",
      "   macro avg       0.93      0.93      0.93      1585\n",
      "weighted avg       0.94      0.94      0.94      1585\n",
      "\n"
     ]
    }
   ],
   "source": [
    "HOG = HistogramOfOrientedGradients(\n",
    "    classifier=RandomForestClassifier\n",
    ")\n",
    "\n",
    "HOG.train(\n",
    "    train_images,\n",
    "    train_labels\n",
    ")\n",
    "\n",
    "predictions = HOG.test(\n",
    "    test_images,\n",
    "    test_labels\n",
    ")\n",
    "\n",
    "classes = list(PersonDataset.classes.values())\n",
    "display_classification_report(test_labels, predictions, classes)"
   ]
  },
  {
   "cell_type": "code",
   "execution_count": 6,
   "metadata": {},
   "outputs": [
    {
     "data": {
      "image/png": "[encoded data removed]",
      "text/plain": [
       "<Figure size 432x288 with 2 Axes>"
      ]
     },
     "metadata": {
      "needs_background": "light"
     },
     "output_type": "display_data"
    }
   ],
   "source": [
    "plot_confusion_matrix(test_labels, predictions, classes)"
   ]
  },
  {
   "cell_type": "code",
   "execution_count": null,
   "metadata": {},
   "outputs": [],
   "source": []
  }
 ],
 "metadata": {
  "kernelspec": {
   "display_name": "Python 3",
   "language": "python",
   "name": "python3"
  },
  "language_info": {
   "codemirror_mode": {
    "name": "ipython",
    "version": 3
   },
   "file_extension": ".py",
   "mimetype": "text/x-python",
   "name": "python",
   "nbconvert_exporter": "python",
   "pygments_lexer": "ipython3",
   "version": "3.6.8"
  }
 },
 "nbformat": 4,
 "nbformat_minor": 4
}
